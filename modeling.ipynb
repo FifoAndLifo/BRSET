{
 "cells": [
  {
   "cell_type": "markdown",
   "id": "552aed48",
   "metadata": {},
   "source": [
    "### Setup Environment:"
   ]
  },
  {
   "cell_type": "code",
   "execution_count": 4,
   "id": "2381f5fd",
   "metadata": {},
   "outputs": [],
   "source": [
    "from src.get_dataset import get_dataset\n",
    "from src.data_loader import CustomLabeledImageDataset"
   ]
  },
  {
   "cell_type": "code",
   "execution_count": 5,
   "id": "a675ba92",
   "metadata": {},
   "outputs": [],
   "source": [
    "# Constants:\n",
    "DATASET = 'data/'\n",
    "DOWNLOAD = False"
   ]
  },
  {
   "cell_type": "markdown",
   "id": "eab83868",
   "metadata": {},
   "source": [
    "#### Read csv file:"
   ]
  },
  {
   "cell_type": "code",
   "execution_count": 7,
   "id": "88f74812",
   "metadata": {},
   "outputs": [
    {
     "name": "stdout",
     "output_type": "stream",
     "text": [
      "loading csv file in data//labels.csv\n"
     ]
    }
   ],
   "source": [
    "df = get_dataset(\"data/\", download=DOWNLOAD, info=False)"
   ]
  },
  {
   "cell_type": "markdown",
   "id": "161ccef6",
   "metadata": {},
   "source": [
    "### Load the Dataset"
   ]
  },
  {
   "cell_type": "code",
   "execution_count": null,
   "id": "bda0e313",
   "metadata": {},
   "outputs": [],
   "source": []
  }
 ],
 "metadata": {
  "kernelspec": {
   "display_name": "Python [conda env:retina_brset_v0_0_1]",
   "language": "python",
   "name": "conda-env-retina_brset_v0_0_1-py"
  },
  "language_info": {
   "codemirror_mode": {
    "name": "ipython",
    "version": 3
   },
   "file_extension": ".py",
   "mimetype": "text/x-python",
   "name": "python",
   "nbconvert_exporter": "python",
   "pygments_lexer": "ipython3",
   "version": "3.8.17"
  }
 },
 "nbformat": 4,
 "nbformat_minor": 5
}
